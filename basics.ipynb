{
 "cells": [
  {
   "cell_type": "markdown",
   "id": "f09f6939",
   "metadata": {},
   "source": [
    "# heading\n",
    "##### heading\n",
    "- p1 \n",
    "    - p2"
   ]
  },
  {
   "cell_type": "markdown",
   "id": "5836afe6",
   "metadata": {},
   "source": [
    "# some basic oprection \n"
   ]
  },
  {
   "cell_type": "code",
   "execution_count": null,
   "id": "0f50d3dd",
   "metadata": {},
   "outputs": [
    {
     "name": "stdout",
     "output_type": "stream",
     "text": [
      "12\n",
      "-2\n",
      "35\n",
      "0.7142857142857143\n",
      "5\n",
      "0\n",
      "78125\n"
     ]
    }
   ],
   "source": [
    "#arithmetic\n",
    "a=5\n",
    "b=7\n",
    "print(a+b)\n",
    "print(a-b)\n",
    "print(a*b)\n",
    "print(a/b)\n",
    "print(a%b)\n",
    "print(a//b)\n",
    "print(a**b)"
   ]
  },
  {
   "cell_type": "code",
   "execution_count": 23,
   "id": "4bfdf4aa",
   "metadata": {},
   "outputs": [],
   "source": [
    "c=17"
   ]
  },
  {
   "cell_type": "markdown",
   "id": "5d9f21fd",
   "metadata": {},
   "source": []
  },
  {
   "cell_type": "code",
   "execution_count": null,
   "id": "89e74897",
   "metadata": {},
   "outputs": [
    {
     "data": {
      "text/plain": [
       "True"
      ]
     },
     "execution_count": 24,
     "metadata": {},
     "output_type": "execute_result"
    }
   ],
   "source": [
    "#boolean function\n",
    "a<b and b<c"
   ]
  },
  {
   "cell_type": "code",
   "execution_count": 25,
   "id": "9a35c38b",
   "metadata": {},
   "outputs": [
    {
     "data": {
      "text/plain": [
       "False"
      ]
     },
     "execution_count": 25,
     "metadata": {},
     "output_type": "execute_result"
    }
   ],
   "source": [
    "a>b or b>c\n"
   ]
  },
  {
   "cell_type": "code",
   "execution_count": 26,
   "id": "0284f0c2",
   "metadata": {},
   "outputs": [
    {
     "data": {
      "text/plain": [
       "False"
      ]
     },
     "execution_count": 26,
     "metadata": {},
     "output_type": "execute_result"
    }
   ],
   "source": [
    "not(a<b and b<c)"
   ]
  },
  {
   "cell_type": "markdown",
   "id": "3d1f9ce6",
   "metadata": {},
   "source": [
    "# list\n"
   ]
  },
  {
   "cell_type": "code",
   "execution_count": 27,
   "id": "8eaf46d2",
   "metadata": {},
   "outputs": [
    {
     "data": {
      "text/plain": [
       "True"
      ]
     },
     "execution_count": 27,
     "metadata": {},
     "output_type": "execute_result"
    }
   ],
   "source": [
    "l1=['apple','banana','cherry','kewi']\n",
    "'banana' in l1\n",
    "\n"
   ]
  },
  {
   "cell_type": "markdown",
   "id": "125136fc",
   "metadata": {},
   "source": [
    "# tupple"
   ]
  },
  {
   "cell_type": "code",
   "execution_count": 28,
   "id": "707cbb17",
   "metadata": {},
   "outputs": [
    {
     "name": "stdout",
     "output_type": "stream",
     "text": [
      "('apple', 'banana', 'cherry', 'kewi')\n"
     ]
    }
   ],
   "source": [
    "t1=('apple','banana','cherry','kewi')       \n",
    "print(t1)\n"
   ]
  },
  {
   "cell_type": "code",
   "execution_count": 29,
   "id": "84498956",
   "metadata": {},
   "outputs": [
    {
     "name": "stdout",
     "output_type": "stream",
     "text": [
      "['apple', 'banana', 'cherry', 'kewi']\n"
     ]
    }
   ],
   "source": [
    "l1=['apple','banana','cherry','kewi']\n",
    "print(l1)\n"
   ]
  },
  {
   "cell_type": "markdown",
   "id": "97fbb3ae",
   "metadata": {},
   "source": [
    "# dic"
   ]
  },
  {
   "cell_type": "code",
   "execution_count": 30,
   "id": "6a5f30c7",
   "metadata": {},
   "outputs": [
    {
     "name": "stdout",
     "output_type": "stream",
     "text": [
      "{'NAME': 'shristi', 'CLASS': 2, 'AGE': 21, 'marks': 89}\n"
     ]
    }
   ],
   "source": [
    "d1={\n",
    "    'NAME':'shristi',\n",
    "    'CLASS': 2,\n",
    "    'AGE':21,\n",
    "    'marks':89\n",
    "    \n",
    "}\n",
    "print(d1)\n"
   ]
  },
  {
   "cell_type": "markdown",
   "id": "762fcef4",
   "metadata": {},
   "source": [
    "# candition\n",
    "## if candition"
   ]
  },
  {
   "cell_type": "code",
   "execution_count": 31,
   "id": "8ecc5956",
   "metadata": {},
   "outputs": [
    {
     "name": "stdout",
     "output_type": "stream",
     "text": [
      "a\n",
      "b\n"
     ]
    }
   ],
   "source": [
    "marks=88\n",
    "if marks >= 90:\n",
    "    print(\"a+\")\n",
    "if marks >= 80:\n",
    "    print(\"a\")\n",
    "if marks >= 70:\n",
    "    print(\"b\")\n",
    "if marks < 60:\n",
    "    print(\"fail\")\n"
   ]
  },
  {
   "cell_type": "markdown",
   "id": "a4fc0324",
   "metadata": {},
   "source": [
    "## if elif else"
   ]
  },
  {
   "cell_type": "code",
   "execution_count": 32,
   "id": "8b7f11e6",
   "metadata": {},
   "outputs": [
    {
     "name": "stdout",
     "output_type": "stream",
     "text": [
      "a\n"
     ]
    }
   ],
   "source": [
    "marks=88\n",
    "if marks >= 90:\n",
    "    print(\"a+\")\n",
    "elif marks >= 80:\n",
    "    print(\"a\")\n",
    "elif arks >= 70:\n",
    "    print(\"b\")\n",
    "elif marks < 60:\n",
    "    print(\"fail\")\n",
    "else:\n",
    "    print(\"inivalid\")"
   ]
  },
  {
   "cell_type": "markdown",
   "id": "b8742bb1",
   "metadata": {},
   "source": [
    "# if elif"
   ]
  },
  {
   "cell_type": "code",
   "execution_count": 33,
   "id": "647ae58e",
   "metadata": {},
   "outputs": [
    {
     "name": "stdout",
     "output_type": "stream",
     "text": [
      " yes\n"
     ]
    }
   ],
   "source": [
    "age=20\n",
    "if age >= 18:\n",
    "    print(\" yes\")\n",
    "elif age < 18:\n",
    "    print (\"no\")\n"
   ]
  },
  {
   "cell_type": "markdown",
   "id": "161b62b2",
   "metadata": {},
   "source": [
    "# check the type"
   ]
  },
  {
   "cell_type": "code",
   "execution_count": 34,
   "id": "db76de5a",
   "metadata": {},
   "outputs": [
    {
     "data": {
      "text/plain": [
       "dict"
      ]
     },
     "execution_count": 34,
     "metadata": {},
     "output_type": "execute_result"
    }
   ],
   "source": [
    "type(d1)"
   ]
  },
  {
   "cell_type": "code",
   "execution_count": 35,
   "id": "13370c3c",
   "metadata": {},
   "outputs": [
    {
     "name": "stdout",
     "output_type": "stream",
     "text": [
      "40\n"
     ]
    },
    {
     "data": {
      "text/plain": [
       "str"
      ]
     },
     "execution_count": 35,
     "metadata": {},
     "output_type": "execute_result"
    }
   ],
   "source": [
    "x=40\n",
    "y= str(x)\n",
    "print(y)\n",
    "type(y)"
   ]
  },
  {
   "cell_type": "markdown",
   "id": "92768c8b",
   "metadata": {},
   "source": [
    "# some basic questions with solve"
   ]
  },
  {
   "cell_type": "code",
   "execution_count": 38,
   "id": "fe395868",
   "metadata": {},
   "outputs": [
    {
     "name": "stdout",
     "output_type": "stream",
     "text": [
      "two sides of triangle is equal\n"
     ]
    }
   ],
   "source": [
    "#check wither two side of tringle is equal or not\n",
    "s1=int(input(\"enter the  side 1 :\"))\n",
    "s2=int(input(\"enter the side 2 :\"))\n",
    "s3=int(input(\"enter the side 3 :\"))\n",
    "if s1==s2 or s1==s3 or s3==s2:\n",
    "    print(\"two sides of triangle is equal\")\n",
    "else:\n",
    "    print(\"two sides of tringle is not equal\")"
   ]
  },
  {
   "cell_type": "code",
   "execution_count": 39,
   "id": "0143b804",
   "metadata": {},
   "outputs": [
    {
     "name": "stdout",
     "output_type": "stream",
     "text": [
      "it is normal triangle\n"
     ]
    }
   ],
   "source": [
    "#check whether a triangle is an equilateral triangle or iscoceles triangle\n",
    "t1=int(input(\"enter the side 1:\"))\n",
    "t2=int(input(\"enter the side 2 :\"))\n",
    "t3=int(input(\"enter the side 3 :\"))\n",
    "if t1==t2 and t2==t3 and t3==t1:\n",
    "    print(\"triangle is equilateral triangle\")\n",
    "elif t1==t2 or t1==t2 or t3==t2:\n",
    "    print(\"tringle is iscoceles triangle\")\n",
    "else:\n",
    "    print(\"it is normal triangle\")\n",
    "    "
   ]
  },
  {
   "cell_type": "code",
   "execution_count": null,
   "id": "dc363d15",
   "metadata": {},
   "outputs": [
    {
     "name": "stdout",
     "output_type": "stream",
     "text": [
      " the chareacter is vowel\n"
     ]
    }
   ],
   "source": [
    "#check whether a character entered by user is vowel or not\n",
    "ah=str(input(\"enter a chareacter:\"))\n",
    "if a in ['a','e','i','o','u','A','E','I','O','U']:\n",
    "    print(\" the chareacter is vowel\")\n",
    "else:\n",
    "    print(\"the enter chareacter is not vowel\")"
   ]
  },
  {
   "cell_type": "code",
   "execution_count": null,
   "id": "7dc68803",
   "metadata": {},
   "outputs": [
    {
     "name": "stdout",
     "output_type": "stream",
     "text": [
      "the year is leap year\n"
     ]
    }
   ],
   "source": [
    "#check whether a year is a leap year or not\n",
    "year=int(input(\"enter the year\"))\n",
    "if (year % 400==0) and (year%100!=0):\n",
    "    print(\"the year is leap year\",year)\n",
    "elif (year % 4==0):\n",
    "    print(\"the year is leap year\")\n",
    "else:\n",
    "    print(\"it is not leap year\")\n"
   ]
  },
  {
   "cell_type": "code",
   "execution_count": null,
   "id": "fce97489",
   "metadata": {},
   "outputs": [],
   "source": []
  },
  {
   "cell_type": "code",
   "execution_count": 48,
   "id": "277d3efe",
   "metadata": {},
   "outputs": [
    {
     "name": "stdout",
     "output_type": "stream",
     "text": [
      "the number even\n"
     ]
    }
   ],
   "source": [
    "#check whether a number is even or odd\n",
    "num=int(input(\"enter the number\"))\n",
    "if num % 2==0:\n",
    "    print(\"the number even\")\n",
    "else:\n",
    "    print(\"the number is odd\")\n",
    "\n"
   ]
  },
  {
   "cell_type": "code",
   "execution_count": 50,
   "id": "729f2f2a",
   "metadata": {},
   "outputs": [
    {
     "name": "stdout",
     "output_type": "stream",
     "text": [
      "2500.0\n",
      "5000.0\n",
      "the total gross salary is:\n",
      "57500.0\n"
     ]
    }
   ],
   "source": [
    "#calculate the gross salary of an employee where the basic salary is 50,000, \n",
    "# HRA is 5% of basic salary and DA is 10% of basic \n",
    "salary=50000\n",
    "hra=salary*0.05\n",
    "da=salary*0.10\n",
    "gs=hra+da+salary\n",
    "print(hra)\n",
    "print(da)\n",
    "print( \"the total gross salary is:\")\n",
    "print(gs)\n",
    "\n",
    "\n"
   ]
  },
  {
   "cell_type": "markdown",
   "id": "1d8258c5",
   "metadata": {},
   "source": [
    "# nested if\n",
    "- if(candition 1)\n",
    "    - if (candition2)\n",
    "        - if (candition3)"
   ]
  },
  {
   "cell_type": "code",
   "execution_count": 17,
   "id": "11497044",
   "metadata": {},
   "outputs": [
    {
     "name": "stdout",
     "output_type": "stream",
     "text": [
      "password is incorrect\n"
     ]
    }
   ],
   "source": [
    "username=input(\"enter your user name:\")\n",
    "email=input(\"enter your email:\")\n",
    "password=input(\"enter your password\")\n",
    "cpss=input(\"enter your canfirm password\")\n",
    "if len(username)>=8 and len(username)<=20:\n",
    "    if '@' in email and len(email)>=8:\n",
    "        if len(password)>=10 and len(password)<=20:\n",
    "            if password==cpss:\n",
    "                print(\"Registration successful 🎉 \")\n",
    "            else:\n",
    "                print(\"password is incorrect\")\n",
    "        else:\n",
    "            print(\"password must be 10 and 20 characters\")\n",
    "    else:\n",
    "        print(\"invalid email\")\n",
    "else:\n",
    "    print(\"user name must be 8 0r 20 charecter\")\n",
    "    "
   ]
  },
  {
   "cell_type": "markdown",
   "id": "8bb16f48",
   "metadata": {},
   "source": [
    "# loops (for,while)"
   ]
  },
  {
   "cell_type": "markdown",
   "id": "fa049d96",
   "metadata": {},
   "source": [
    "# for"
   ]
  },
  {
   "cell_type": "code",
   "execution_count": 73,
   "id": "f784bf64",
   "metadata": {},
   "outputs": [
    {
     "name": "stdout",
     "output_type": "stream",
     "text": [
      "apple\n",
      "apple_banana\n",
      "banana_cherry\n",
      "cherry_date\n",
      "date_elderberry\n",
      "elderberry_"
     ]
    }
   ],
   "source": [
    "fruites=['apple','banana','cherry','date','elderberry']\n",
    "for i in fruites:\n",
    "    print(i)\n",
    "    # for horizontal with space or any symbol\n",
    "    print(i,end='_')"
   ]
  },
  {
   "cell_type": "code",
   "execution_count": 71,
   "id": "623b8526",
   "metadata": {},
   "outputs": [
    {
     "name": "stdout",
     "output_type": "stream",
     "text": [
      "0\n",
      "1\n",
      "2\n",
      "3\n",
      "4\n",
      "5\n"
     ]
    }
   ],
   "source": [
    "for i in range (6):\n",
    "    print(i)\n",
    "    "
   ]
  },
  {
   "cell_type": "code",
   "execution_count": 74,
   "id": "ca1b4f78",
   "metadata": {},
   "outputs": [
    {
     "name": "stdout",
     "output_type": "stream",
     "text": [
      "2\n",
      "4\n",
      "6\n",
      "8\n"
     ]
    }
   ],
   "source": [
    "for i in range(2,10,2):\n",
    "    print(i)\n",
    "    "
   ]
  },
  {
   "cell_type": "code",
   "execution_count": 78,
   "id": "6df263b9",
   "metadata": {},
   "outputs": [
    {
     "name": "stdout",
     "output_type": "stream",
     "text": [
      "shristi\n",
      "shristi\n",
      "shristi\n",
      "shristi\n",
      "shristi\n",
      "shristi\n",
      "shristi\n",
      "shristi\n",
      "shristi\n",
      "shristi\n"
     ]
    }
   ],
   "source": [
    "for i in range (10):\n",
    "    print('shristi')"
   ]
  },
  {
   "cell_type": "code",
   "execution_count": 79,
   "id": "0d4c869a",
   "metadata": {},
   "outputs": [
    {
     "name": "stdout",
     "output_type": "stream",
     "text": [
      "0\n",
      "2\n",
      "4\n",
      "6\n",
      "8\n",
      "10\n",
      "12\n",
      "14\n",
      "16\n",
      "18\n",
      "20\n"
     ]
    }
   ],
   "source": [
    "for i in range (0,21,2):\n",
    "    print(i)"
   ]
  },
  {
   "cell_type": "code",
   "execution_count": 84,
   "id": "c36c6bf5",
   "metadata": {},
   "outputs": [
    {
     "name": "stdout",
     "output_type": "stream",
     "text": [
      "1\n",
      "3\n",
      "5\n",
      "7\n",
      "9\n",
      "11\n",
      "13\n",
      "15\n",
      "17\n",
      "19\n"
     ]
    }
   ],
   "source": [
    "for i in range (1,21,2):\n",
    "    print(i)\n"
   ]
  },
  {
   "cell_type": "markdown",
   "id": "fbb3ee8f",
   "metadata": {},
   "source": [
    "# while"
   ]
  },
  {
   "cell_type": "code",
   "execution_count": 3,
   "id": "f54f18e5",
   "metadata": {},
   "outputs": [
    {
     "name": "stdout",
     "output_type": "stream",
     "text": [
      "0\n",
      "1\n",
      "2\n",
      "3\n",
      "4\n",
      "5\n",
      "6\n",
      "7\n",
      "8\n",
      "9\n",
      "10\n"
     ]
    }
   ],
   "source": [
    "i=0\n",
    "while i<=10:\n",
    "    print(i)\n",
    "    i+=1"
   ]
  },
  {
   "cell_type": "code",
   "execution_count": 4,
   "id": "56764df8",
   "metadata": {},
   "outputs": [
    {
     "name": "stdout",
     "output_type": "stream",
     "text": [
      "shristi\n",
      "shristi\n",
      "shristi\n",
      "shristi\n",
      "shristi\n",
      "shristi\n",
      "shristi\n",
      "shristi\n",
      "shristi\n",
      "shristi\n",
      "shristi\n"
     ]
    }
   ],
   "source": [
    "i=0\n",
    "while i<=10:\n",
    "    print('shristi')\n",
    "    i+=1"
   ]
  },
  {
   "cell_type": "code",
   "execution_count": 9,
   "id": "21b776c9",
   "metadata": {},
   "outputs": [
    {
     "name": "stdout",
     "output_type": "stream",
     "text": [
      "0\n",
      "2\n",
      "4\n",
      "6\n",
      "8\n",
      "10\n",
      "12\n",
      "14\n",
      "16\n",
      "18\n",
      "20\n"
     ]
    }
   ],
   "source": [
    "i=0\n",
    "while i<=20:\n",
    "    if i%2==0:\n",
    "        print(i)\n",
    "    i=i+1"
   ]
  },
  {
   "cell_type": "code",
   "execution_count": 10,
   "id": "ed486508",
   "metadata": {},
   "outputs": [
    {
     "name": "stdout",
     "output_type": "stream",
     "text": [
      "1\n",
      "3\n",
      "5\n",
      "7\n",
      "9\n",
      "11\n",
      "13\n",
      "15\n",
      "17\n",
      "19\n"
     ]
    }
   ],
   "source": [
    "i=0\n",
    "while i<=20:\n",
    "    if i%2!=0:\n",
    "        print(i)\n",
    "    i+=1"
   ]
  },
  {
   "cell_type": "markdown",
   "id": "8e792c5d",
   "metadata": {},
   "source": [
    "# break and continue"
   ]
  },
  {
   "cell_type": "code",
   "execution_count": 16,
   "id": "d8091dea",
   "metadata": {},
   "outputs": [
    {
     "name": "stdout",
     "output_type": "stream",
     "text": [
      "apple\n",
      "banana\n",
      "cherry\n",
      "date\n",
      "elderberry\n"
     ]
    }
   ],
   "source": [
    "#break\n",
    "fruites=['apple','banana','cherry','date','elderberry','onion','banana','kiwi','apple']\n",
    "for i in  fruites:\n",
    "    if i=='onion':\n",
    "        break\n",
    "    print(i)"
   ]
  },
  {
   "cell_type": "code",
   "execution_count": null,
   "id": "e9efd8f9",
   "metadata": {},
   "outputs": [
    {
     "name": "stdout",
     "output_type": "stream",
     "text": [
      "apple\n",
      "banana\n",
      "cherry\n",
      "date\n",
      "elderberry\n",
      "banana\n",
      "kiwi\n",
      "apple\n"
     ]
    }
   ],
   "source": [
    "#continue\n",
    "fruites=['apple','banana','cherry','date','elderberry','onion','banana','kiwi','apple']\n",
    "for i in  fruites:\n",
    "    if i=='onion':\n",
    "        continue\n",
    "    print(i)"
   ]
  },
  {
   "cell_type": "markdown",
   "id": "d71d4aba",
   "metadata": {},
   "source": []
  },
  {
   "cell_type": "code",
   "execution_count": null,
   "id": "96f8b464",
   "metadata": {},
   "outputs": [
    {
     "name": "stdout",
     "output_type": "stream",
     "text": [
      "sum of 10 and 5 is 15\n"
     ]
    }
   ],
   "source": [
    "a=10\n",
    "b=5\n",
    "sum =a+b\n",
    "print(f'sum of {a} and {b} is {sum}')\n",
    "print(\"sum of \")"
   ]
  },
  {
   "cell_type": "code",
   "execution_count": null,
   "id": "a7ea4b3b",
   "metadata": {},
   "outputs": [],
   "source": []
  }
 ],
 "metadata": {
  "kernelspec": {
   "display_name": "base",
   "language": "python",
   "name": "python3"
  },
  "language_info": {
   "codemirror_mode": {
    "name": "ipython",
    "version": 3
   },
   "file_extension": ".py",
   "mimetype": "text/x-python",
   "name": "python",
   "nbconvert_exporter": "python",
   "pygments_lexer": "ipython3",
   "version": "3.11.7"
  }
 },
 "nbformat": 4,
 "nbformat_minor": 5
}
