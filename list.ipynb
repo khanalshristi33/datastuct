{
 "cells": [
  {
   "cell_type": "code",
   "execution_count": 1,
   "id": "750af185",
   "metadata": {},
   "outputs": [
    {
     "name": "stdout",
     "output_type": "stream",
     "text": [
      "['insta', 'sanpchat', 'facebook', 'youtube', 'ptyam', 'whatsapp', 'netflix', 'chatgpt', 'rapido', 'music', 'gallery', 'messages', 'github', 'linkedin', 'swiggy']\n"
     ]
    }
   ],
   "source": [
    "app=['insta','sanpchat','facebook','youtube','ptyam','whatsapp','netflix','chatgpt','rapido','music','gallery','messages','github','linkedin','swiggy']\n",
    "print(app)\n"
   ]
  },
  {
   "cell_type": "markdown",
   "id": "c4ff1ce7",
   "metadata": {},
   "source": [
    "# INDEXING & SLICING"
   ]
  },
  {
   "cell_type": "code",
   "execution_count": null,
   "id": "a410f4c1",
   "metadata": {},
   "outputs": [
    {
     "name": "stdout",
     "output_type": "stream",
     "text": [
      "ptyam\n",
      "chatgpt\n"
     ]
    }
   ],
   "source": [
    "\n",
    "#indexing\n",
    "print(app[4])\n",
    "print(app[7])"
   ]
  },
  {
   "cell_type": "code",
   "execution_count": 8,
   "id": "23608efa",
   "metadata": {},
   "outputs": [
    {
     "name": "stdout",
     "output_type": "stream",
     "text": [
      "linkedin\n",
      "rapido\n"
     ]
    }
   ],
   "source": [
    "print(app[-2])\n",
    "print(app[-7])"
   ]
  },
  {
   "cell_type": "code",
   "execution_count": 16,
   "id": "935e70d3",
   "metadata": {},
   "outputs": [
    {
     "name": "stdout",
     "output_type": "stream",
     "text": [
      "['sanpchat', 'facebook', 'youtube', 'ptyam']\n",
      "['sanpchat', 'youtube', 'whatsapp']\n",
      "['insta', 'sanpchat', 'facebook', 'youtube', 'ptyam', 'whatsapp', 'netflix', 'chatgpt', 'rapido', 'music', 'gallery', 'messages', 'github', 'linkedin', 'swiggy']\n",
      "['insta', 'facebook', 'ptyam', 'netflix', 'rapido', 'gallery', 'github', 'swiggy']\n",
      "[]\n",
      "['messages', 'github', 'linkedin']\n"
     ]
    }
   ],
   "source": [
    "#slicing\n",
    "print(app[1:5])\n",
    "# start:shop:jump\n",
    "print(app[1:7:2])\n",
    "# if you  want to print all element of list (app[:])\n",
    "print(app[:])\n",
    "#if you want to print all element but skip 1 element\n",
    "print(app[::2])\n",
    "print(app[-1:-4])\n",
    "print(app[-4:-1])\n"
   ]
  },
  {
   "cell_type": "markdown",
   "id": "f8e63a76",
   "metadata": {},
   "source": [
    "# lis methods\n",
    "- append() - to add item in end of the list\n",
    "- insert() - to add item at any specific position\n",
    "- pop() - to delete item using its indexing\n",
    "- remove() - to delete item using item name\n",
    "- copy() - to make a dublicate of list\n",
    "- sort() - to sort a list in particular order \n",
    "- extend() - to cambine 2 list into a single list\n",
    "- clear() - to delete all the item "
   ]
  },
  {
   "cell_type": "code",
   "execution_count": 21,
   "id": "b2da8de7",
   "metadata": {},
   "outputs": [
    {
     "name": "stdout",
     "output_type": "stream",
     "text": [
      "['insta', 'sanpchat', 'facebook', 'sim', 'youtube', 'ptyam', 'whatsapp', 'netflix', 'chatgpt', 'rapido', 'music', 'gallery', 'messages', 'github', 'linkedin', 'swiggy', 'camra', 'camra', 'camra', 'camra']\n"
     ]
    }
   ],
   "source": [
    "app.append('camra')\n",
    "print(app)"
   ]
  },
  {
   "cell_type": "code",
   "execution_count": 28,
   "id": "60b5a6f6",
   "metadata": {},
   "outputs": [
    {
     "ename": "TypeError",
     "evalue": "insert expected 2 arguments, got 1",
     "output_type": "error",
     "traceback": [
      "\u001b[0;31m---------------------------------------------------------------------------\u001b[0m",
      "\u001b[0;31mTypeError\u001b[0m                                 Traceback (most recent call last)",
      "Cell \u001b[0;32mIn[28], line 1\u001b[0m\n\u001b[0;32m----> 1\u001b[0m app\u001b[38;5;241m.\u001b[39minsert(\u001b[38;5;124m'\u001b[39m\u001b[38;5;124mkoo\u001b[39m\u001b[38;5;124m'\u001b[39m)\n\u001b[1;32m      2\u001b[0m \u001b[38;5;28mprint\u001b[39m(app)\n",
      "\u001b[0;31mTypeError\u001b[0m: insert expected 2 arguments, got 1"
     ]
    }
   ],
   "source": [
    "app.insert('koo')\n",
    "print(app)"
   ]
  },
  {
   "cell_type": "code",
   "execution_count": 25,
   "id": "23a8b8b7",
   "metadata": {},
   "outputs": [
    {
     "name": "stdout",
     "output_type": "stream",
     "text": [
      "['insta', 'sanpchat', 'facebook', 'sim', 'youtube', 'ptyam', 'whatsapp', 'netflix', 'chatgpt', 'rapido', 'music', 'gallery', 'messages', 'github', 'linkedin', 'swiggy']\n"
     ]
    }
   ],
   "source": [
    "app.remove('camra')\n",
    "print(app)"
   ]
  },
  {
   "cell_type": "code",
   "execution_count": 26,
   "id": "3e641a72",
   "metadata": {},
   "outputs": [
    {
     "name": "stdout",
     "output_type": "stream",
     "text": [
      "['insta', 'sanpchat', 'facebook', 'youtube', 'ptyam', 'whatsapp', 'netflix', 'chatgpt', 'rapido', 'music', 'gallery', 'messages', 'github', 'linkedin', 'swiggy']\n"
     ]
    }
   ],
   "source": [
    "app.pop(3)\n",
    "print(app)"
   ]
  },
  {
   "cell_type": "code",
   "execution_count": 29,
   "id": "03833f56",
   "metadata": {},
   "outputs": [
    {
     "name": "stdout",
     "output_type": "stream",
     "text": [
      "['insta', 'sanpchat', 'facebook', 'youtube', 'ptyam', 'whatsapp', 'netflix', 'chatgpt', 'rapido', 'music', 'gallery', 'messages', 'github', 'linkedin', 'swiggy']\n"
     ]
    }
   ],
   "source": [
    "copy_app=app.copy()\n",
    "print(copy_app)\n"
   ]
  },
  {
   "cell_type": "code",
   "execution_count": 30,
   "id": "40cd9f4c",
   "metadata": {},
   "outputs": [
    {
     "name": "stdout",
     "output_type": "stream",
     "text": [
      "[]\n"
     ]
    }
   ],
   "source": [
    "copy_app.clear()\n",
    "print(copy_app)"
   ]
  },
  {
   "cell_type": "markdown",
   "id": "3be1ccc0",
   "metadata": {},
   "source": [
    "### shorting"
   ]
  },
  {
   "cell_type": "code",
   "execution_count": 31,
   "id": "fd9c2ef8",
   "metadata": {},
   "outputs": [
    {
     "name": "stdout",
     "output_type": "stream",
     "text": [
      "['chatgpt', 'facebook', 'gallery', 'github', 'insta', 'linkedin', 'messages', 'music', 'netflix', 'ptyam', 'rapido', 'sanpchat', 'swiggy', 'whatsapp', 'youtube']\n"
     ]
    }
   ],
   "source": [
    "app.sort()\n",
    "print(app)"
   ]
  },
  {
   "cell_type": "code",
   "execution_count": 32,
   "id": "6c5295ac",
   "metadata": {},
   "outputs": [],
   "source": [
    "app2=['sid','sibyno','astosage']\n",
    "app.extend(app)"
   ]
  },
  {
   "cell_type": "code",
   "execution_count": 33,
   "id": "b537bc8a",
   "metadata": {},
   "outputs": [
    {
     "name": "stdout",
     "output_type": "stream",
     "text": [
      "['chatgpt', 'facebook', 'gallery', 'github', 'insta', 'linkedin', 'messages', 'music', 'netflix', 'ptyam', 'rapido', 'sanpchat', 'swiggy', 'whatsapp', 'youtube', 'chatgpt', 'facebook', 'gallery', 'github', 'insta', 'linkedin', 'messages', 'music', 'netflix', 'ptyam', 'rapido', 'sanpchat', 'swiggy', 'whatsapp', 'youtube', 'sid', 'sibyno', 'astosage']\n"
     ]
    }
   ],
   "source": [
    "app.extend(app2)\n",
    "print(app)"
   ]
  },
  {
   "cell_type": "code",
   "execution_count": 34,
   "id": "2349b97d",
   "metadata": {},
   "outputs": [
    {
     "name": "stdout",
     "output_type": "stream",
     "text": [
      "['sid', 'sibyno', 'astosage', 'chatgpt', 'facebook', 'gallery', 'github', 'insta', 'linkedin', 'messages', 'music', 'netflix', 'ptyam', 'rapido', 'sanpchat', 'swiggy', 'whatsapp', 'youtube', 'chatgpt', 'facebook', 'gallery', 'github', 'insta', 'linkedin', 'messages', 'music', 'netflix', 'ptyam', 'rapido', 'sanpchat', 'swiggy', 'whatsapp', 'youtube', 'sid', 'sibyno', 'astosage']\n"
     ]
    }
   ],
   "source": [
    "app2.extend(app)\n",
    "print(app2)"
   ]
  },
  {
   "cell_type": "code",
   "execution_count": 2,
   "id": "90d7f5e6",
   "metadata": {},
   "outputs": [
    {
     "ename": "KeyboardInterrupt",
     "evalue": "Interrupted by user",
     "output_type": "error",
     "traceback": [
      "\u001b[0;31m---------------------------------------------------------------------------\u001b[0m",
      "\u001b[0;31mKeyboardInterrupt\u001b[0m                         Traceback (most recent call last)",
      "Cell \u001b[0;32mIn[2], line 1\u001b[0m\n\u001b[0;32m----> 1\u001b[0m num \u001b[38;5;241m=\u001b[39m \u001b[38;5;28mint\u001b[39m (\u001b[38;5;28minput\u001b[39m(\u001b[38;5;124m\"\u001b[39m\u001b[38;5;124menter the number\u001b[39m\u001b[38;5;124m\"\u001b[39m))\n\u001b[1;32m      2\u001b[0m original \u001b[38;5;241m=\u001b[39m num\n\u001b[1;32m      3\u001b[0m rev \u001b[38;5;241m=\u001b[39m \u001b[38;5;241m0\u001b[39m\n",
      "File \u001b[0;32m/opt/anaconda3/lib/python3.11/site-packages/ipykernel/kernelbase.py:1262\u001b[0m, in \u001b[0;36mKernel.raw_input\u001b[0;34m(self, prompt)\u001b[0m\n\u001b[1;32m   1260\u001b[0m     msg \u001b[38;5;241m=\u001b[39m \u001b[38;5;124m\"\u001b[39m\u001b[38;5;124mraw_input was called, but this frontend does not support input requests.\u001b[39m\u001b[38;5;124m\"\u001b[39m\n\u001b[1;32m   1261\u001b[0m     \u001b[38;5;28;01mraise\u001b[39;00m StdinNotImplementedError(msg)\n\u001b[0;32m-> 1262\u001b[0m \u001b[38;5;28;01mreturn\u001b[39;00m \u001b[38;5;28mself\u001b[39m\u001b[38;5;241m.\u001b[39m_input_request(\n\u001b[1;32m   1263\u001b[0m     \u001b[38;5;28mstr\u001b[39m(prompt),\n\u001b[1;32m   1264\u001b[0m     \u001b[38;5;28mself\u001b[39m\u001b[38;5;241m.\u001b[39m_parent_ident[\u001b[38;5;124m\"\u001b[39m\u001b[38;5;124mshell\u001b[39m\u001b[38;5;124m\"\u001b[39m],\n\u001b[1;32m   1265\u001b[0m     \u001b[38;5;28mself\u001b[39m\u001b[38;5;241m.\u001b[39mget_parent(\u001b[38;5;124m\"\u001b[39m\u001b[38;5;124mshell\u001b[39m\u001b[38;5;124m\"\u001b[39m),\n\u001b[1;32m   1266\u001b[0m     password\u001b[38;5;241m=\u001b[39m\u001b[38;5;28;01mFalse\u001b[39;00m,\n\u001b[1;32m   1267\u001b[0m )\n",
      "File \u001b[0;32m/opt/anaconda3/lib/python3.11/site-packages/ipykernel/kernelbase.py:1305\u001b[0m, in \u001b[0;36mKernel._input_request\u001b[0;34m(self, prompt, ident, parent, password)\u001b[0m\n\u001b[1;32m   1302\u001b[0m \u001b[38;5;28;01mexcept\u001b[39;00m \u001b[38;5;167;01mKeyboardInterrupt\u001b[39;00m:\n\u001b[1;32m   1303\u001b[0m     \u001b[38;5;66;03m# re-raise KeyboardInterrupt, to truncate traceback\u001b[39;00m\n\u001b[1;32m   1304\u001b[0m     msg \u001b[38;5;241m=\u001b[39m \u001b[38;5;124m\"\u001b[39m\u001b[38;5;124mInterrupted by user\u001b[39m\u001b[38;5;124m\"\u001b[39m\n\u001b[0;32m-> 1305\u001b[0m     \u001b[38;5;28;01mraise\u001b[39;00m \u001b[38;5;167;01mKeyboardInterrupt\u001b[39;00m(msg) \u001b[38;5;28;01mfrom\u001b[39;00m \u001b[38;5;28;01mNone\u001b[39;00m\n\u001b[1;32m   1306\u001b[0m \u001b[38;5;28;01mexcept\u001b[39;00m \u001b[38;5;167;01mException\u001b[39;00m:\n\u001b[1;32m   1307\u001b[0m     \u001b[38;5;28mself\u001b[39m\u001b[38;5;241m.\u001b[39mlog\u001b[38;5;241m.\u001b[39mwarning(\u001b[38;5;124m\"\u001b[39m\u001b[38;5;124mInvalid Message:\u001b[39m\u001b[38;5;124m\"\u001b[39m, exc_info\u001b[38;5;241m=\u001b[39m\u001b[38;5;28;01mTrue\u001b[39;00m)\n",
      "\u001b[0;31mKeyboardInterrupt\u001b[0m: Interrupted by user"
     ]
    }
   ],
   "source": [
    "num = int (input(\"enter the number\"))\n",
    "original = num\n",
    "rev = 0\n",
    "\n",
    "while num > 0 :\n",
    "    digit = num % 10\n",
    "    rev  = rev *10 + digit\n",
    "    num = num  // 10\n",
    "if original  == rev:\n",
    "    print (f\"{original} is a palindrome\")\n",
    "    \n",
    "else:\n",
    "    print(f\"{original} is not palindrome\" )\n"
   ]
  },
  {
   "cell_type": "code",
   "execution_count": null,
   "id": "bfbeb2e9",
   "metadata": {},
   "outputs": [],
   "source": []
  }
 ],
 "metadata": {
  "kernelspec": {
   "display_name": "base",
   "language": "python",
   "name": "python3"
  },
  "language_info": {
   "codemirror_mode": {
    "name": "ipython",
    "version": 3
   },
   "file_extension": ".py",
   "mimetype": "text/x-python",
   "name": "python",
   "nbconvert_exporter": "python",
   "pygments_lexer": "ipython3",
   "version": "3.11.7"
  }
 },
 "nbformat": 4,
 "nbformat_minor": 5
}
